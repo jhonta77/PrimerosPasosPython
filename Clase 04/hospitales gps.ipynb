{
 "cells": [
  {
   "cell_type": "code",
   "execution_count": null,
   "metadata": {},
   "outputs": [],
   "source": [
    "import pandas as pd\n",
    "import re"
   ]
  },
  {
   "cell_type": "code",
   "execution_count": null,
   "metadata": {},
   "outputs": [],
   "source": [
    "df = pd.read_csv(r\"Clase 04\\hospitales2.csv\")"
   ]
  },
  {
   "cell_type": "code",
   "execution_count": null,
   "metadata": {},
   "outputs": [],
   "source": [
    "df.columns"
   ]
  },
  {
   "cell_type": "code",
   "execution_count": null,
   "metadata": {},
   "outputs": [],
   "source": [
    "# Inicializamos una lista para latitud y otra para longitud \n",
    "latitudes = []\n",
    "longitudes = []\n",
    "# extraemos las coordenadas de la columna KWT\n",
    "for wkt in df['WKT']:\n",
    "    match = re.search(r'POINT \\((-?\\d+\\.\\d+) (-?\\d+\\.\\d+)\\)', wkt)\n",
    "    if match:\n",
    "        longitudes.append(float(match.group(1)))\n",
    "        latitudes.append(float(match.group(2)))\n",
    "#crear un nuevo df con las columnas deseadas \n",
    "df2 = pd.DataFrame({\n",
    "    \"latitud\" :latitudes,\n",
    "    \"longitud\": longitudes,\n",
    "    \"nombre\": df['NOMBRE'],\n",
    "    \"label\": df['TIPO_ESPEC']\n",
    "})\n",
    "\n",
    "df2.to_csv(\"hospitales_filtrados.csv\", index=False)"
   ]
  },
  {
   "cell_type": "code",
   "execution_count": null,
   "metadata": {},
   "outputs": [],
   "source": [
    "df2"
   ]
  }
 ],
 "metadata": {
  "kernelspec": {
   "display_name": "Python 3",
   "language": "python",
   "name": "python3"
  },
  "language_info": {
   "codemirror_mode": {
    "name": "ipython",
    "version": 3
   },
   "file_extension": ".py",
   "mimetype": "text/x-python",
   "name": "python",
   "nbconvert_exporter": "python",
   "pygments_lexer": "ipython3",
   "version": "3.12.7"
  }
 },
 "nbformat": 4,
 "nbformat_minor": 2
}
