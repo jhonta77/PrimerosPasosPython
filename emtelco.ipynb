{
 "cells": [
  {
   "cell_type": "code",
   "execution_count": 15,
   "metadata": {},
   "outputs": [],
   "source": [
    "import pandas as pd\n"
   ]
  },
  {
   "cell_type": "code",
   "execution_count": 17,
   "metadata": {},
   "outputs": [],
   "source": [
    "import pandas as pd\n",
    "\n",
    "df = pd.read_excel(\"C:/Users/jhont/OneDrive/Escritorio/modulo 1/UnDiaX/Reporte Procesos Disciplinarios 22_07_2024.xlsx\")\n"
   ]
  },
  {
   "cell_type": "code",
   "execution_count": 19,
   "metadata": {},
   "outputs": [
    {
     "data": {
      "text/plain": [
       "Index(['# Proceso', 'Cédula del colaborador', 'Nombre colaborador',\n",
       "       'Fecha de ocurrencia', 'Fecha de conocimiento', 'Tipo de Conducta',\n",
       "       'Incumplimiento', 'Programa del colaborador',\n",
       "       'Centro de costos del colaborador', 'Cliente 2 del colaborador',\n",
       "       'Gerencia del colaborador', 'Dirección del colaborador',\n",
       "       'Dirección quien reporta', 'Cédula quien reporta',\n",
       "       'Nombre quien reporta', 'Cargo de quien reporta', 'Usuario abogado',\n",
       "       'Nombre Abogado', 'Fecha creación', 'Fecha de cierre', 'Estado',\n",
       "       'Rango suspensión', 'Fecha limite solución', 'Antigüedad (En horas)',\n",
       "       'Cumple ANS', 'Estado apelación', 'Fecha creación.1', 'Fecha de cierra',\n",
       "       'Fecha limite solución.1', 'Antigüedad (En horas).1', 'Cumple ANS.1'],\n",
       "      dtype='object')"
      ]
     },
     "execution_count": 19,
     "metadata": {},
     "output_type": "execute_result"
    }
   ],
   "source": [
    "df.columns"
   ]
  }
 ],
 "metadata": {
  "kernelspec": {
   "display_name": "Python 3",
   "language": "python",
   "name": "python3"
  },
  "language_info": {
   "codemirror_mode": {
    "name": "ipython",
    "version": 3
   },
   "file_extension": ".py",
   "mimetype": "text/x-python",
   "name": "python",
   "nbconvert_exporter": "python",
   "pygments_lexer": "ipython3",
   "version": "3.12.7"
  }
 },
 "nbformat": 4,
 "nbformat_minor": 2
}
