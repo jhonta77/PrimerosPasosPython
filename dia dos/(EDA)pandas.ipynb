{
 "cells": [
  {
   "cell_type": "code",
   "execution_count": 25,
   "metadata": {},
   "outputs": [
    {
     "name": "stdout",
     "output_type": "stream",
     "text": [
      "Nombres de las columnas:\n",
      "Index(['Código de país', 'Nombre del país', 'Región', 'Año', 'CO2 (kt)',\n",
      "       'CO2 per cápita (toneladas métricas)'],\n",
      "      dtype='object')\n",
      "Número de variables: 6\n",
      "Tipos de datos por variable:\n",
      "Código de país                         object\n",
      "Nombre del país                        object\n",
      "Región                                 object\n",
      "Año                                     int64\n",
      "CO2 (kt)                               object\n",
      "CO2 per cápita (toneladas métricas)    object\n",
      "dtype: object\n",
      "Valores faltantes por variable:\n",
      "Código de país                            0\n",
      "Nombre del país                           0\n",
      "Región                                    0\n",
      "Año                                       0\n",
      "CO2 (kt)                               2095\n",
      "CO2 per cápita (toneladas métricas)    2098\n",
      "dtype: int64\n",
      "Tipos de datos después de la conversión:\n",
      "Código de país                          object\n",
      "Nombre del país                         object\n",
      "Región                                  object\n",
      "Año                                      int64\n",
      "CO2 (kt)                               float64\n",
      "CO2 per cápita (toneladas métricas)    float64\n",
      "dtype: object\n",
      "Total de emisiones de CO2 para América Latina y Caribe en 2010: 1691634.801\n"
     ]
    }
   ],
   "source": [
    "import pandas as pd\n",
    "\n",
    "# Ruta del archivo CSV\n",
    "archivo_csv = r\"C:\\Users\\jhont\\OneDrive\\Escritorio\\modulo 1\\Clase 02\\Emisiones_CO2.csv\"\n",
    "\n",
    "# Leer el archivo CSV\n",
    "df = pd.read_csv(archivo_csv, delimiter='|', encoding='ISO-8859-1')\n",
    "\n",
    "# Mostrar los nombres de las columnas\n",
    "print('Nombres de las columnas:')\n",
    "print(df.columns)\n",
    "\n",
    "# a) Número de variables\n",
    "num_variables = df.shape[1]\n",
    "print(f'Número de variables: {num_variables}')\n",
    "\n",
    "# b) Tipos de datos\n",
    "tipos_datos = df.dtypes\n",
    "print('Tipos de datos por variable:')\n",
    "print(tipos_datos)\n",
    "\n",
    "# c) Clasificación de variables (puedes hacerlo manualmente o usando `dtypes`)\n",
    "\n",
    "# d) Valores faltantes\n",
    "valores_faltantes = df.isnull().sum()\n",
    "print('Valores faltantes por variable:')\n",
    "print(valores_faltantes)\n",
    "\n",
    "# Limpiar y convertir las columnas de CO2 a numérico\n",
    "# Primero, reemplazamos las comas y puntos\n",
    "df['CO2 (kt)'] = df['CO2 (kt)'].str.replace('.', '', regex=False).str.replace(',', '.', regex=False)\n",
    "df['CO2 per cápita (toneladas métricas)'] = df['CO2 per cápita (toneladas métricas)'].str.replace('.', '', regex=False).str.replace(',', '.', regex=False)\n",
    "\n",
    "# Convertir a numérico, forzando NaN para los valores no convertibles\n",
    "df['CO2 (kt)'] = pd.to_numeric(df['CO2 (kt)'], errors='coerce')\n",
    "df['CO2 per cápita (toneladas métricas)'] = pd.to_numeric(df['CO2 per cápita (toneladas métricas)'], errors='coerce')\n",
    "\n",
    "# Comprobar los tipos de datos después de la conversión\n",
    "print('Tipos de datos después de la conversión:')\n",
    "print(df.dtypes)\n",
    "\n",
    "# e) Total de emisiones de CO2 en América Latina y Caribe en 2010\n",
    "total_co2 = df[(df['Región'] == 'América Latina y Caribe') & (df['Año'] == 2010)]['CO2 (kt)'].sum()\n",
    "print(f'Total de emisiones de CO2 para América Latina y Caribe en 2010: {total_co2}')\n"
   ]
  },
  {
   "cell_type": "code",
   "execution_count": 28,
   "metadata": {},
   "outputs": [
    {
     "name": "stdout",
     "output_type": "stream",
     "text": [
      "Código de país                                           AND\n",
      "Nombre del país                                      Andorra\n",
      "Región                                 Europa y Asia Central\n",
      "Año                                                     2008\n",
      "CO2 (kt)                                             539.049\n",
      "CO2 per cápita (toneladas métricas)                 6.296125\n",
      "Name: 100, dtype: object\n"
     ]
    }
   ],
   "source": [
    "# Acceder a la primera fila (índice 0)\n",
    "registro = df.iloc[100]\n",
    "print(registro)\n"
   ]
  },
  {
   "cell_type": "code",
   "execution_count": 29,
   "metadata": {},
   "outputs": [
    {
     "name": "stdout",
     "output_type": "stream",
     "text": [
      "      Código de país                Nombre del país  \\\n",
      "50               ABW                          Aruba   \n",
      "102              AND                        Andorra   \n",
      "154              AFG                     Afganistán   \n",
      "206              AGO                         Angola   \n",
      "258              ALB                        Albania   \n",
      "...              ...                            ...   \n",
      "10917            YEM                          Yemen   \n",
      "10969            ZAF                      Sudáfrica   \n",
      "11021            COD  Congo (República Democrática)   \n",
      "11073            ZMB                         Zambia   \n",
      "11125            ZWE                       Zimbabue   \n",
      "\n",
      "                                Región   Año    CO2 (kt)  \\\n",
      "50             América Latina y Caribe  2010    2456.890   \n",
      "102              Europa y Asia Central  2010     517.047   \n",
      "154                        Sur de Asia  2010    8470.770   \n",
      "206                África subsahariana  2010   29743.040   \n",
      "258              Europa y Asia Central  2010    4415.070   \n",
      "...                                ...   ...         ...   \n",
      "10917  Oriente Medio y Norte de África  2010   25716.670   \n",
      "10969              África subsahariana  2010  454950.020   \n",
      "11021              África subsahariana  2010    3252.630   \n",
      "11073              África subsahariana  2010    2673.240   \n",
      "11125              África subsahariana  2010    9028.150   \n",
      "\n",
      "       CO2 per cápita (toneladas métricas)  \n",
      "50                               24.182702  \n",
      "102                               6.124770  \n",
      "154                               0.302936  \n",
      "206                               1.401654  \n",
      "258                               1.515632  \n",
      "...                                    ...  \n",
      "10917                             1.090060  \n",
      "10969                             8.957154  \n",
      "11021                             0.049328  \n",
      "11073                             0.192079  \n",
      "11125                             0.646073  \n",
      "\n",
      "[214 rows x 6 columns]\n"
     ]
    }
   ],
   "source": [
    "resultados = df.loc[df[\"Año\"] == 2010]\n",
    "print(resultados)"
   ]
  }
 ],
 "metadata": {
  "kernelspec": {
   "display_name": "Python 3",
   "language": "python",
   "name": "python3"
  },
  "language_info": {
   "codemirror_mode": {
    "name": "ipython",
    "version": 3
   },
   "file_extension": ".py",
   "mimetype": "text/x-python",
   "name": "python",
   "nbconvert_exporter": "python",
   "pygments_lexer": "ipython3",
   "version": "3.12.7"
  }
 },
 "nbformat": 4,
 "nbformat_minor": 2
}
