{
 "cells": [
  {
   "cell_type": "code",
   "execution_count": 2,
   "metadata": {},
   "outputs": [],
   "source": [
    "def NumeroBinario(numero):\n",
    "    # Verifica si el número es menor o igual a 0 y, en ese caso, lo retorna tal cual.\n",
    "    # Esta línea maneja números negativos y el caso especial del 0.\n",
    "    if numero <= 0:\n",
    "        return \"ingresa un numero positivo\"\n",
    "    \n",
    "    # Separa la parte entera y la parte decimal del número.\n",
    "    numeroInt = int(numero)            # Parte entera\n",
    "    numeroDec = numero - numeroInt      # Parte decimal\n",
    "\n",
    "    # Convierte la parte entera a binario.\n",
    "    if numeroInt == 0:\n",
    "        binarioInt = \"0\"                # Caso especial si la parte entera es 0\n",
    "    else:\n",
    "        binarioInt = \"\"                 # Cadena para almacenar el binario de la parte entera\n",
    "        while numeroInt > 0:\n",
    "            residuo = numeroInt % 2     # Calcula el residuo de dividir entre 2\n",
    "            binarioInt = str(residuo) + binarioInt  # Agrega el residuo al inicio de la cadena\n",
    "            numeroInt = numeroInt // 2  # Actualiza la parte entera dividiéndola entre 2\n",
    "\n",
    "    # Si la parte decimal es 0, retorna solo la parte binaria entera.\n",
    "    if numeroDec == 0:\n",
    "        return binarioInt\n",
    "\n",
    "    # Convierte la parte decimal a binario.\n",
    "    binarioDec = \"\"                     # Cadena para almacenar el binario de la parte decimal\n",
    "    while numeroDec > 0:\n",
    "        numeroDec *= 2                  # Multiplica la parte decimal por 2\n",
    "        if numeroDec >= 1:\n",
    "            binarioDec += \"1\"           # Si el resultado es >= 1, agrega \"1\" al binario decimal\n",
    "            numeroDec -= 1              # Resta 1 para continuar con la parte decimal restante\n",
    "        else:\n",
    "            binarioDec += \"0\"           # Si es < 1, agrega \"0\" al binario decimal\n",
    "\n",
    "    # Retorna la representación binaria completa combinando parte entera y decimal.\n",
    "    return binarioInt + \".\" + binarioDec\n",
    "\n"
   ]
  },
  {
   "cell_type": "code",
   "execution_count": 5,
   "metadata": {},
   "outputs": [
    {
     "data": {
      "text/plain": [
       "'1000001.011001100110011001100110011001100110011001101'"
      ]
     },
     "execution_count": 5,
     "metadata": {},
     "output_type": "execute_result"
    }
   ],
   "source": [
    "nomeroo = 65.4\n",
    "\n",
    "\n",
    "\n",
    "NumeroBinario(nomeroo)"
   ]
  }
 ],
 "metadata": {
  "kernelspec": {
   "display_name": "Python 3",
   "language": "python",
   "name": "python3"
  },
  "language_info": {
   "codemirror_mode": {
    "name": "ipython",
    "version": 3
   },
   "file_extension": ".py",
   "mimetype": "text/x-python",
   "name": "python",
   "nbconvert_exporter": "python",
   "pygments_lexer": "ipython3",
   "version": "3.12.7"
  }
 },
 "nbformat": 4,
 "nbformat_minor": 2
}
